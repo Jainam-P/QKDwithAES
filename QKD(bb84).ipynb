{
 "cells": [
  {
   "cell_type": "code",
   "execution_count": null,
   "id": "e360a378-460d-4fda-9099-45e7fd4c488e",
   "metadata": {
    "tags": []
   },
   "outputs": [],
   "source": [
    "# Importing standard Qiskit libraries\n",
    "from qiskit import QuantumCircuit, transpile, QuantumRegister, ClassicalRegister\n",
    "from qiskit.providers.aer import QasmSimulator\n",
    "from qiskit.tools.jupyter import *\n",
    "from qiskit.visualization import plot_histogram\n",
    "from ibm_quantum_widgets import *\n",
    "from qiskit_aer import AerSimulator\n",
    "\n",
    "# qiskit-ibmq-provider has been deprecated.\n",
    "# Please see the Migration Guides in https://ibm.biz/provider_migration_guide for more detail.\n",
    "from qiskit_ibm_runtime import QiskitRuntimeService, Sampler, Estimator, Session, Options\n",
    "\n",
    "# Loading your IBM Quantum account(s)\n",
    "service = QiskitRuntimeService(channel=\"ibm_quantum\")\n",
    "\n",
    "# Invoke a primitive inside a session. For more details see https://qiskit.org/documentation/partners/qiskit_ibm_runtime/tutorials.html\n",
    "# with Session(backend=service.backend(\"ibmq_qasm_simulator\")):\n",
    "#     result = Sampler().run(circuits).result()"
   ]
  },
  {
   "cell_type": "code",
   "execution_count": 49,
   "id": "1912e0e0-5907-4e8a-a760-37b9a29858d2",
   "metadata": {},
   "outputs": [],
   "source": [
    "from random import randint, choice"
   ]
  },
  {
   "cell_type": "code",
   "execution_count": 50,
   "id": "a3b6560e-c85e-4739-839c-4ac4f5fbb884",
   "metadata": {
    "tags": []
   },
   "outputs": [
    {
     "data": {
      "text/plain": [
       "[0, 1, 0, 1, 1, 1, 1, 1]"
      ]
     },
     "execution_count": 50,
     "metadata": {},
     "output_type": "execute_result"
    }
   ],
   "source": [
    "bits=[]\n",
    "for i in range(8):\n",
    "    bit=randint(0,1)\n",
    "    bits.append(bit)\n",
    "bits"
   ]
  },
  {
   "cell_type": "code",
   "execution_count": 51,
   "id": "eebd6ae8-baf0-42db-b0c9-deb27ab843ac",
   "metadata": {
    "tags": []
   },
   "outputs": [
    {
     "data": {
      "text/plain": [
       "['X', 'X', 'X', 'Z', 'X', 'X', 'X', 'Z']"
      ]
     },
     "execution_count": 51,
     "metadata": {},
     "output_type": "execute_result"
    }
   ],
   "source": [
    "basis=[]\n",
    "for i in range(8):\n",
    "    base=choice(['X','Z'])\n",
    "    basis.append(base)\n",
    "basis"
   ]
  },
  {
   "cell_type": "code",
   "execution_count": 52,
   "id": "e8ddf929-adef-4557-882e-f5679782f4a4",
   "metadata": {
    "tags": []
   },
   "outputs": [],
   "source": [
    "q=QuantumRegister(8)\n",
    "c=ClassicalRegister(8)\n",
    "qc=QuantumCircuit(q,c)\n",
    "\n",
    "for i in range(8):\n",
    "    if basis[i]=='Z':\n",
    "        if bits[i]==0:\n",
    "            qc.i(q[i])\n",
    "        else:\n",
    "            qc.x(q[i])\n",
    "    else:\n",
    "        if bits[i]==0:\n",
    "            qc.h(q[i])\n",
    "        else:\n",
    "            qc.x(q[i])\n",
    "            qc.h(q[i])\n",
    "qc.barrier()\n",
    "qc.draw()\n",
    "bobs_base=[]\n",
    "for i in range(8):\n",
    "    base=choice(['X','Z'])\n",
    "    bobs_base.append(base)\n",
    "bobs_base\n",
    "\n",
    "for i in range(8):\n",
    "    if bobs_base[i]=='Z':\n",
    "        qc.measure(q[i],c[i])\n",
    "    else:\n",
    "        qc.h(q[i])\n",
    "        qc.measure(q[i],c[i])\n",
    "        qc.draw()"
   ]
  },
  {
   "cell_type": "code",
   "execution_count": 53,
   "id": "faceb89c-f5e6-45c9-a464-fa6e8147ccb2",
   "metadata": {
    "tags": []
   },
   "outputs": [
    {
     "name": "stdout",
     "output_type": "stream",
     "text": [
      "{'01011010': 1}\n"
     ]
    }
   ],
   "source": [
    "backend=QasmSimulator()\n",
    "qc_compiled=transpile(qc,backend)\n",
    "job=backend.run(qc_compiled,shots=1)\n",
    "result=job.result()\n",
    "counts=result.get_counts()\n",
    "print(counts)"
   ]
  },
  {
   "cell_type": "code",
   "execution_count": 54,
   "id": "5896298d-dff7-4514-b5ac-f50f75b90aea",
   "metadata": {
    "tags": []
   },
   "outputs": [
    {
     "data": {
      "image/png": "[encoded data removed]",
      "text/plain": [
       "<Figure size 700x500 with 1 Axes>"
      ]
     },
     "execution_count": 54,
     "metadata": {},
     "output_type": "execute_result"
    }
   ],
   "source": [
    "plot_histogram(counts)"
   ]
  },
  {
   "cell_type": "code",
   "execution_count": 55,
   "id": "44f9db0f-f566-4ae6-b2af-663cb2ac41bb",
   "metadata": {
    "tags": []
   },
   "outputs": [
    {
     "name": "stdout",
     "output_type": "stream",
     "text": [
      "0\n",
      "1\n",
      "0\n",
      "1\n",
      "1\n"
     ]
    },
    {
     "data": {
      "text/plain": [
       "[]"
      ]
     },
     "execution_count": 55,
     "metadata": {},
     "output_type": "execute_result"
    }
   ],
   "source": [
    "result=list(counts.keys())[0]\n",
    "result\n",
    "\n",
    "for i in range(8):\n",
    "    if bobs_base[i]==basis[i]:\n",
    "        print(result[i])\n",
    "        \n",
    "[]"
   ]
  },
  {
   "cell_type": "code",
   "execution_count": null,
   "id": "88c7f928-bd2f-4db8-924b-97f375234dc0",
   "metadata": {},
   "outputs": [],
   "source": []
  }
 ],
 "metadata": {
  "kernelspec": {
   "display_name": "Python 3 (ipykernel)",
   "language": "python",
   "name": "python3"
  },
  "language_info": {
   "codemirror_mode": {
    "name": "ipython",
    "version": 3
   },
   "file_extension": ".py",
   "mimetype": "text/x-python",
   "name": "python",
   "nbconvert_exporter": "python",
   "pygments_lexer": "ipython3",
   "version": "3.10.8"
  },
  "widgets": {
   "application/vnd.jupyter.widget-state+json": {
    "state": {
     "1328443c26db4250a308bf7b3670d13b": {
      "model_module": "@jupyter-widgets/controls",
      "model_module_version": "2.0.0",
      "model_name": "HTMLModel",
      "state": {
       "layout": "IPY_MODEL_2a240d19587b4c08ab6fc70e65ef77c6",
       "style": "IPY_MODEL_8c0efe6963cb40a790dc70ccf2ba7b07",
       "value": "<h5>Status</h5>"
      }
     },
     "1d8655906e434a9d865bf5fe19d53098": {
      "model_module": "@jupyter-widgets/controls",
      "model_module_version": "2.0.0",
      "model_name": "HTMLStyleModel",
      "state": {
       "description_width": "",
       "font_size": null,
       "text_color": null
      }
     },
     "240f13b5c6e54d2e92a9d1b06af6348f": {
      "model_module": "@jupyter-widgets/base",
      "model_module_version": "2.0.0",
      "model_name": "LayoutModel",
      "state": {}
     },
     "2a240d19587b4c08ab6fc70e65ef77c6": {
      "model_module": "@jupyter-widgets/base",
      "model_module_version": "2.0.0",
      "model_name": "LayoutModel",
      "state": {
       "width": "95px"
      }
     },
     "2babe1076d8743a58ab2b014d8623292": {
      "model_module": "@jupyter-widgets/controls",
      "model_module_version": "2.0.0",
      "model_name": "GridBoxModel",
      "state": {
       "children": [
        "IPY_MODEL_6762eb25d9e74367bc11de5b1a07bfaf"
       ],
       "layout": "IPY_MODEL_5708ce79685842dd865b4215f7f33ebc"
      }
     },
     "324a5fa5d1554f5e8a69db4b8d3f2155": {
      "model_module": "@jupyter-widgets/controls",
      "model_module_version": "2.0.0",
      "model_name": "ButtonStyleModel",
      "state": {
       "font_family": null,
       "font_size": null,
       "font_style": null,
       "font_variant": null,
       "font_weight": null,
       "text_color": null,
       "text_decoration": null
      }
     },
     "362b7ed4a46c491291df8bfed8c7c52b": {
      "model_module": "@jupyter-widgets/controls",
      "model_module_version": "2.0.0",
      "model_name": "HTMLModel",
      "state": {
       "layout": "IPY_MODEL_eb54d968f65149dda5828d1ea9f4f46a",
       "style": "IPY_MODEL_950d8651860f4719a75c1b84cad4c3ec",
       "value": "<h5>Backend</h5>"
      }
     },
     "38b2786df574485992e626620828fb05": {
      "model_module": "@jupyter-widgets/controls",
      "model_module_version": "2.0.0",
      "model_name": "HTMLStyleModel",
      "state": {
       "description_width": "",
       "font_size": null,
       "text_color": null
      }
     },
     "5708ce79685842dd865b4215f7f33ebc": {
      "model_module": "@jupyter-widgets/base",
      "model_module_version": "2.0.0",
      "model_name": "LayoutModel",
      "state": {
       "grid_template_areas": "\n                                       \". . . . right \"\n                                        ",
       "grid_template_columns": "20% 20% 20% 20% 20%",
       "width": "100%"
      }
     },
     "5860a079cf79428aa0d4c11a51e7f17f": {
      "model_module": "@jupyter-widgets/base",
      "model_module_version": "2.0.0",
      "model_name": "LayoutModel",
      "state": {
       "width": "190px"
      }
     },
     "6762eb25d9e74367bc11de5b1a07bfaf": {
      "model_module": "@jupyter-widgets/controls",
      "model_module_version": "2.0.0",
      "model_name": "ButtonModel",
      "state": {
       "button_style": "primary",
       "description": "Clear",
       "layout": "IPY_MODEL_78703015ffd74f229bc9055c26c45145",
       "style": "IPY_MODEL_324a5fa5d1554f5e8a69db4b8d3f2155",
       "tooltip": null
      }
     },
     "6c51875aa1dd4bba98144afaa0db2c16": {
      "model_module": "@jupyter-widgets/controls",
      "model_module_version": "2.0.0",
      "model_name": "HTMLModel",
      "state": {
       "layout": "IPY_MODEL_95aa9f96acef4682ac81dc36a7562559",
       "style": "IPY_MODEL_b6a86a62f43e476892deed71cc5979de",
       "value": "<h5>Queue</h5>"
      }
     },
     "78703015ffd74f229bc9055c26c45145": {
      "model_module": "@jupyter-widgets/base",
      "model_module_version": "2.0.0",
      "model_name": "LayoutModel",
      "state": {
       "grid_area": "right",
       "padding": "0px 0px 0px 0px",
       "width": "70px"
      }
     },
     "7976beda79c64ccb9210ad03b0f8f260": {
      "model_module": "@jupyter-widgets/controls",
      "model_module_version": "2.0.0",
      "model_name": "HTMLModel",
      "state": {
       "layout": "IPY_MODEL_5860a079cf79428aa0d4c11a51e7f17f",
       "style": "IPY_MODEL_b7bee8b8e750464b95007eff0ca59eee",
       "value": "<h5>Job ID</h5>"
      }
     },
     "7dd4352d2e4045efbe8770bb96df31ea": {
      "model_module": "@jupyter-widgets/controls",
      "model_module_version": "2.0.0",
      "model_name": "HTMLModel",
      "state": {
       "layout": "IPY_MODEL_fe8aff0442414740b787eafbd616c8fa",
       "style": "IPY_MODEL_1d8655906e434a9d865bf5fe19d53098",
       "value": "<p style='font-family: IBM Plex Sans, Arial, Helvetica, sans-serif; font-size: 20px; font-weight: medium;'>Circuit Properties</p>"
      }
     },
     "86ccf953c250487b81e969f33c118799": {
      "model_module": "@jupyter-widgets/controls",
      "model_module_version": "2.0.0",
      "model_name": "HBoxModel",
      "state": {
       "children": [
        "IPY_MODEL_7976beda79c64ccb9210ad03b0f8f260",
        "IPY_MODEL_362b7ed4a46c491291df8bfed8c7c52b",
        "IPY_MODEL_1328443c26db4250a308bf7b3670d13b",
        "IPY_MODEL_6c51875aa1dd4bba98144afaa0db2c16",
        "IPY_MODEL_880dc97e893847db91f521bffbac8a6d"
       ],
       "layout": "IPY_MODEL_f4e6474389c3413caec7a6732c33dc9d"
      }
     },
     "880dc97e893847db91f521bffbac8a6d": {
      "model_module": "@jupyter-widgets/controls",
      "model_module_version": "2.0.0",
      "model_name": "HTMLModel",
      "state": {
       "layout": "IPY_MODEL_240f13b5c6e54d2e92a9d1b06af6348f",
       "style": "IPY_MODEL_38b2786df574485992e626620828fb05",
       "value": "<h5>Message</h5>"
      }
     },
     "8c0efe6963cb40a790dc70ccf2ba7b07": {
      "model_module": "@jupyter-widgets/controls",
      "model_module_version": "2.0.0",
      "model_name": "HTMLStyleModel",
      "state": {
       "description_width": "",
       "font_size": null,
       "text_color": null
      }
     },
     "950d8651860f4719a75c1b84cad4c3ec": {
      "model_module": "@jupyter-widgets/controls",
      "model_module_version": "2.0.0",
      "model_name": "HTMLStyleModel",
      "state": {
       "description_width": "",
       "font_size": null,
       "text_color": null
      }
     },
     "95aa9f96acef4682ac81dc36a7562559": {
      "model_module": "@jupyter-widgets/base",
      "model_module_version": "2.0.0",
      "model_name": "LayoutModel",
      "state": {
       "width": "70px"
      }
     },
     "b6a86a62f43e476892deed71cc5979de": {
      "model_module": "@jupyter-widgets/controls",
      "model_module_version": "2.0.0",
      "model_name": "HTMLStyleModel",
      "state": {
       "description_width": "",
       "font_size": null,
       "text_color": null
      }
     },
     "b7bee8b8e750464b95007eff0ca59eee": {
      "model_module": "@jupyter-widgets/controls",
      "model_module_version": "2.0.0",
      "model_name": "HTMLStyleModel",
      "state": {
       "description_width": "",
       "font_size": null,
       "text_color": null
      }
     },
     "eb54d968f65149dda5828d1ea9f4f46a": {
      "model_module": "@jupyter-widgets/base",
      "model_module_version": "2.0.0",
      "model_name": "LayoutModel",
      "state": {
       "width": "145px"
      }
     },
     "f4e6474389c3413caec7a6732c33dc9d": {
      "model_module": "@jupyter-widgets/base",
      "model_module_version": "2.0.0",
      "model_name": "LayoutModel",
      "state": {
       "margin": "0px 0px 0px 37px",
       "width": "600px"
      }
     },
     "fe8aff0442414740b787eafbd616c8fa": {
      "model_module": "@jupyter-widgets/base",
      "model_module_version": "2.0.0",
      "model_name": "LayoutModel",
      "state": {
       "margin": "0px 0px 10px 0px"
      }
     }
    },
    "version_major": 2,
    "version_minor": 0
   }
  }
 },
 "nbformat": 4,
 "nbformat_minor": 5
}
