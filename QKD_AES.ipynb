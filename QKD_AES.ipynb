{
 "cells": [
  {
   "cell_type": "code",
   "execution_count": 24,
   "id": "702a5c1c-f174-41b8-a621-2693a3804493",
   "metadata": {
    "tags": []
   },
   "outputs": [],
   "source": [
    "# Importing standard Qiskit libraries\n",
    "from qiskit import QuantumCircuit,transpile,Aer,execute,ClassicalRegister,QuantumRegister,assemble,execute\n",
    "from qiskit.tools.jupyter import *\n",
    "from qiskit.visualization import *\n",
    "from ibm_quantum_widgets import *\n",
    "from qiskit_aer import AerSimulator\n",
    "from Crypto.Cipher import AES\n",
    "from Crypto.Util.Padding import pad, unpad\n",
    "import os\n",
    "import hashlib\n",
    "from random import randint,choice\n",
    "import numpy as np\n",
    "\n",
    "# qiskit-ibmq-provider has been deprecated.\n",
    "# Please see the Migration Guides in https://ibm.biz/provider_migration_guide for more detail.\n",
    "from qiskit_ibm_runtime import QiskitRuntimeService, Sampler, Estimator, Session, Options\n",
    "\n",
    "# Loading your IBM Quantum account(s)\n",
    "service = QiskitRuntimeService(channel=\"ibm_quantum\")\n",
    "\n",
    "# Invoke a primitive inside a session. For more details see https://qiskit.org/documentation/partners/qiskit_ibm_runtime/tutorials.html\n",
    "# with Session(backend=service.backend(\"ibmq_qasm_simulator\")):\n",
    "#     result = Sampler().run(circuits).result()"
   ]
  },
  {
   "cell_type": "code",
   "execution_count": 25,
   "id": "3be4961a-8df5-43d3-80c6-232656658b23",
   "metadata": {
    "tags": []
   },
   "outputs": [
    {
     "data": {
      "text/plain": [
       "<qiskit.circuit.instructionset.InstructionSet at 0x7fb25a66d2a0>"
      ]
     },
     "execution_count": 25,
     "metadata": {},
     "output_type": "execute_result"
    }
   ],
   "source": [
    "q=5\n",
    "# create an Alice qubit register\n",
    "alice_qubits=QuantumRegister(q)\n",
    "\n",
    "# create a classical bit register for the key exchange\n",
    "key_exchange=ClassicalRegister(q)\n",
    "\n",
    "# create a Quantum Circuit with the registers\n",
    "circuit=QuantumCircuit(alice_qubits,key_exchange)\n",
    "\n",
    "# generate random bit string for Alice to encode\n",
    "alice_bits=[randint(0,1) for _ in range(q)]\n",
    "alice_choices=[choice(['NS','S']) for _ in range(q)]\n",
    "\n",
    "# encode Alice's bits into qubits\n",
    "for i,bit in enumerate(alice_bits):\n",
    "    if bit==1:\n",
    "        circuit.x(alice_qubits[i])\n",
    "    else:\n",
    "        circuit.z(alice_qubits[i])\n",
    "\n",
    "    if alice_choices[i]=='S':\n",
    "        circuit.h(alice_qubits[i]) \n",
    "\n",
    "circuit.barrier()"
   ]
  },
  {
   "cell_type": "code",
   "execution_count": 26,
   "id": "a765f262-9896-411a-90f1-20e76b346dbe",
   "metadata": {
    "tags": []
   },
   "outputs": [
    {
     "data": {
      "text/plain": [
       "<qiskit.circuit.instructionset.InstructionSet at 0x7fb25a66e0e0>"
      ]
     },
     "execution_count": 26,
     "metadata": {},
     "output_type": "execute_result"
    }
   ],
   "source": [
    "# Alice and Bob share their qubits\n",
    "#circuit+=alice_qubits+bob_qubits\n",
    "\n",
    "# generate random bit string for Bob to measure the qubits\n",
    "#bob_bits=[randint(0,1) for _ in range(q)]\n",
    "bob_choices=[choice(['NS','S']) for _ in range(q)]\n",
    "    \n",
    "# measure the qubits\n",
    "for i in range(len(bob_choices)):\n",
    "    if bob_choices[i]=='S':\n",
    "        circuit.h(i)\n",
    "\n",
    "    circuit.measure(i,i)\n",
    "\n",
    "circuit.barrier()"
   ]
  },
  {
   "cell_type": "code",
   "execution_count": 27,
   "id": "da9a8881-15e3-4d01-aabb-1fbde5a3fd07",
   "metadata": {
    "tags": []
   },
   "outputs": [
    {
     "name": "stdout",
     "output_type": "stream",
     "text": [
      "[0, 0, 1, 0, 0]\n"
     ]
    }
   ],
   "source": [
    "bob_bits=[]\n",
    "\n",
    "backend=Aer.get_backend('qasm_simulator')\n",
    "job=execute(circuit,backend=backend,shots=1,memory=True)\n",
    "result=job.result()\n",
    "counts=result.get_counts()\n",
    "result=list(counts.keys())[0]\n",
    "for i in range(len(result)):\n",
    "    bob_bits.append(int(result[i]))\n",
    "print(bob_bits)"
   ]
  },
  {
   "cell_type": "code",
   "execution_count": 29,
   "id": "128803b6-3378-4af5-b6fe-9dcbdea077ff",
   "metadata": {
    "tags": []
   },
   "outputs": [
    {
     "name": "stdout",
     "output_type": "stream",
     "text": [
      "[0, 0, 1, 0]\n",
      "[0, 0, 1, 0]\n",
      "Users verified\n"
     ]
    },
    {
     "name": "stdin",
     "output_type": "stream",
     "text": [
      "Enter message:  I can Win CodXpress\n"
     ]
    },
    {
     "name": "stdout",
     "output_type": "stream",
     "text": [
      "Confidentiality-\n",
      "Ciphertext: b';R\\xdc\\x03\\x1aSp}\\xe4\"\\x0f)\\xf0Z\\x93\\xa7|\\xb3Z:\\xe9\\xe7\\x19\\x9c\\x88\\x91\\xae\\x01\\xa7\\x1c\\x85\\xda'\n",
      "QKD Key: b'\\x02'\n",
      "Plaintext: b'I can Win CodXpress'\n"
     ]
    }
   ],
   "source": [
    "# Alice and Bob compare their bit strings to identify the positions where they used the same basis\n",
    "# and therefore can share a secure key\n",
    "# matching_bits=[i for i in range(q) if alice_choices[i]==bob_choices[i]]\n",
    "# alice_key=[alice_bits[i] for i in matching_bits]\n",
    "# bob_key=[bob_bits[i] for i in matching_bits]\n",
    "\n",
    "alice_key=[]\n",
    "for q in range(len(alice_choices)):\n",
    "    if alice_choices[q]==bob_choices[q]:\n",
    "        alice_key.append(alice_bits[q])\n",
    "\n",
    "bob_key=[]\n",
    "for q in range(len(bob_choices)):\n",
    "    if alice_choices[q]==bob_choices[q]:\n",
    "        bob_key.append(bob_bits[q])\n",
    "\n",
    "print(alice_key)\n",
    "print(bob_key)\n",
    "\n",
    "t=0\n",
    "if len(alice_key) and len(bob_key):\n",
    "    for i in range(len(alice_key)):\n",
    "        if alice_key[i]!=bob_key[i]:\n",
    "            t+=1\n",
    "\n",
    "# check if enough matching bits were found to generate the key\n",
    "if t<1:\n",
    "    print(\"Users verified\")\n",
    "    # generate the key from the matching bits\n",
    "    key_string=''.join(str(bit) for bit in alice_key)\n",
    "    key_bytes=bytes(int(key_string[i:i+8],2) for i in range(0,len(key_string),8))\n",
    "    # if len(key_bytes)>=16:\n",
    "    qkd_key=key_bytes[:16]\n",
    "    # encrypt a message using AES\n",
    "    message=input(\"Enter message: \")\n",
    "    hash_object=hashlib.sha256(message.encode('utf-8'))\n",
    "    hex_dig=hash_object.hexdigest()\n",
    "    hash_bytes=bytes.fromhex(hex_dig)\n",
    "    message=message.encode('utf-8')  \n",
    "    cipher=AES.new(hash_bytes,AES.MODE_CBC)\n",
    "    ciphertext=cipher.encrypt(pad(message,AES.block_size))\n",
    "\n",
    "    print(\"Confidentiality-\\nCiphertext:\",ciphertext)\n",
    "    print(\"QKD Key:\",qkd_key)\n",
    "\n",
    "    # decrypt the message using AES-256\n",
    "    decipher=AES.new(hash_bytes,AES.MODE_CBC,iv=cipher.iv)\n",
    "    plaintext=str(unpad(decipher.decrypt(ciphertext),AES.block_size))\n",
    "    hash_obj=hashlib.sha256(plaintext.encode('utf-8'))\n",
    "    if hash_bytes==bytes.fromhex(hash_obj.hexdigest()):\n",
    "        print(\"message authenticated\")\n",
    "\n",
    "    print(\"Plaintext:\",plaintext)\n",
    "    # else:\n",
    "    #     print(\"Not enough bits to generate the key, Let's use another quantum channel.\")\n",
    "else:\n",
    "    print(\"EVE DETECTED! or Not enough matching bits to generate the key, Let's use another quantum channel.\")"
   ]
  },
  {
   "cell_type": "code",
   "execution_count": null,
   "id": "74170fc2-154a-4520-b851-0e9de11276ba",
   "metadata": {},
   "outputs": [],
   "source": []
  },
  {
   "cell_type": "code",
   "execution_count": null,
   "id": "f068b517-acc4-4061-82ef-96c7dd4a94d6",
   "metadata": {},
   "outputs": [],
   "source": []
  },
  {
   "cell_type": "code",
   "execution_count": null,
   "id": "236d4336-b127-4ca0-aa4d-ec4fba654fe1",
   "metadata": {},
   "outputs": [],
   "source": []
  }
 ],
 "metadata": {
  "kernelspec": {
   "display_name": "Python 3 (ipykernel)",
   "language": "python",
   "name": "python3"
  },
  "language_info": {
   "codemirror_mode": {
    "name": "ipython",
    "version": 3
   },
   "file_extension": ".py",
   "mimetype": "text/x-python",
   "name": "python",
   "nbconvert_exporter": "python",
   "pygments_lexer": "ipython3",
   "version": "3.10.8"
  },
  "widgets": {
   "application/vnd.jupyter.widget-state+json": {
    "state": {
     "0b3a92b47747423e825d18691a46a403": {
      "model_module": "@jupyter-widgets/controls",
      "model_module_version": "2.0.0",
      "model_name": "HTMLStyleModel",
      "state": {
       "description_width": "",
       "font_size": null,
       "text_color": null
      }
     },
     "144e946f6295437b9e7dbbed6aa49c32": {
      "model_module": "@jupyter-widgets/base",
      "model_module_version": "2.0.0",
      "model_name": "LayoutModel",
      "state": {
       "width": "70px"
      }
     },
     "259115ce323b4ff5b4d7aea262dad983": {
      "model_module": "@jupyter-widgets/base",
      "model_module_version": "2.0.0",
      "model_name": "LayoutModel",
      "state": {
       "grid_template_areas": "\n                                       \". . . . right \"\n                                        ",
       "grid_template_columns": "20% 20% 20% 20% 20%",
       "width": "100%"
      }
     },
     "2bc6ae0eb27a40899fc741960f5dc504": {
      "model_module": "@jupyter-widgets/base",
      "model_module_version": "2.0.0",
      "model_name": "LayoutModel",
      "state": {
       "width": "145px"
      }
     },
     "2d240d099eec4b379e5861ac9566ce94": {
      "model_module": "@jupyter-widgets/controls",
      "model_module_version": "2.0.0",
      "model_name": "GridBoxModel",
      "state": {
       "children": [
        "IPY_MODEL_c55bb2df33554214bc78dea91e8bc6ec"
       ],
       "layout": "IPY_MODEL_259115ce323b4ff5b4d7aea262dad983"
      }
     },
     "4103c376a8ed4f3d9cc081dfa1435c4a": {
      "model_module": "@jupyter-widgets/base",
      "model_module_version": "2.0.0",
      "model_name": "LayoutModel",
      "state": {
       "width": "95px"
      }
     },
     "47678c4328bf4f0a931f7d598e6e1ecf": {
      "model_module": "@jupyter-widgets/base",
      "model_module_version": "2.0.0",
      "model_name": "LayoutModel",
      "state": {
       "margin": "0px 0px 10px 0px"
      }
     },
     "778c0866dd104677802dab0614a6c837": {
      "model_module": "@jupyter-widgets/controls",
      "model_module_version": "2.0.0",
      "model_name": "HTMLStyleModel",
      "state": {
       "description_width": "",
       "font_size": null,
       "text_color": null
      }
     },
     "92a21e6b333f44e892f53078e8a87050": {
      "model_module": "@jupyter-widgets/controls",
      "model_module_version": "2.0.0",
      "model_name": "HTMLStyleModel",
      "state": {
       "description_width": "",
       "font_size": null,
       "text_color": null
      }
     },
     "9707f137fb7442af8e87e753b0e6ab3c": {
      "model_module": "@jupyter-widgets/base",
      "model_module_version": "2.0.0",
      "model_name": "LayoutModel",
      "state": {
       "grid_area": "right",
       "padding": "0px 0px 0px 0px",
       "width": "70px"
      }
     },
     "9e50a95537e4491f9c568588e7b3d10c": {
      "model_module": "@jupyter-widgets/controls",
      "model_module_version": "2.0.0",
      "model_name": "HTMLModel",
      "state": {
       "layout": "IPY_MODEL_4103c376a8ed4f3d9cc081dfa1435c4a",
       "style": "IPY_MODEL_d69d605e3a2649c0bb5f2c1c2b2d7e83",
       "value": "<h5>Status</h5>"
      }
     },
     "a7cdd59f150f4e2faf93c910ef178642": {
      "model_module": "@jupyter-widgets/base",
      "model_module_version": "2.0.0",
      "model_name": "LayoutModel",
      "state": {
       "width": "190px"
      }
     },
     "aafc8b9dc0554a5d942ae2b3007b6a10": {
      "model_module": "@jupyter-widgets/base",
      "model_module_version": "2.0.0",
      "model_name": "LayoutModel",
      "state": {
       "margin": "0px 0px 0px 37px",
       "width": "600px"
      }
     },
     "afc5ca0043254260aa7e8e06cea86e91": {
      "model_module": "@jupyter-widgets/controls",
      "model_module_version": "2.0.0",
      "model_name": "HBoxModel",
      "state": {
       "children": [
        "IPY_MODEL_dd2a3a8c30de4e74a56edfddba376d2b",
        "IPY_MODEL_f99b19cc6e954c67906fc45a8c2666a1",
        "IPY_MODEL_9e50a95537e4491f9c568588e7b3d10c",
        "IPY_MODEL_f2e44adb64d442919a3e68607f106e7e",
        "IPY_MODEL_ff421309e3904600b41f76687e71661f"
       ],
       "layout": "IPY_MODEL_aafc8b9dc0554a5d942ae2b3007b6a10"
      }
     },
     "b229c96fc224481391deaf9abc42cc10": {
      "model_module": "@jupyter-widgets/controls",
      "model_module_version": "2.0.0",
      "model_name": "HTMLStyleModel",
      "state": {
       "description_width": "",
       "font_size": null,
       "text_color": null
      }
     },
     "b5308003bf05410d9bb164f71235637e": {
      "model_module": "@jupyter-widgets/controls",
      "model_module_version": "2.0.0",
      "model_name": "ButtonStyleModel",
      "state": {
       "font_family": null,
       "font_size": null,
       "font_style": null,
       "font_variant": null,
       "font_weight": null,
       "text_color": null,
       "text_decoration": null
      }
     },
     "c55bb2df33554214bc78dea91e8bc6ec": {
      "model_module": "@jupyter-widgets/controls",
      "model_module_version": "2.0.0",
      "model_name": "ButtonModel",
      "state": {
       "button_style": "primary",
       "description": "Clear",
       "layout": "IPY_MODEL_9707f137fb7442af8e87e753b0e6ab3c",
       "style": "IPY_MODEL_b5308003bf05410d9bb164f71235637e",
       "tooltip": null
      }
     },
     "c7c4ed9af17341b9b50da7c37fdfb847": {
      "model_module": "@jupyter-widgets/controls",
      "model_module_version": "2.0.0",
      "model_name": "HTMLStyleModel",
      "state": {
       "description_width": "",
       "font_size": null,
       "text_color": null
      }
     },
     "cbf360f608ff47aeaa2836b4d910ee45": {
      "model_module": "@jupyter-widgets/base",
      "model_module_version": "2.0.0",
      "model_name": "LayoutModel",
      "state": {}
     },
     "d69d605e3a2649c0bb5f2c1c2b2d7e83": {
      "model_module": "@jupyter-widgets/controls",
      "model_module_version": "2.0.0",
      "model_name": "HTMLStyleModel",
      "state": {
       "description_width": "",
       "font_size": null,
       "text_color": null
      }
     },
     "dd2a3a8c30de4e74a56edfddba376d2b": {
      "model_module": "@jupyter-widgets/controls",
      "model_module_version": "2.0.0",
      "model_name": "HTMLModel",
      "state": {
       "layout": "IPY_MODEL_a7cdd59f150f4e2faf93c910ef178642",
       "style": "IPY_MODEL_92a21e6b333f44e892f53078e8a87050",
       "value": "<h5>Job ID</h5>"
      }
     },
     "e715c8919c084b3299161dfde23d216d": {
      "model_module": "@jupyter-widgets/controls",
      "model_module_version": "2.0.0",
      "model_name": "HTMLModel",
      "state": {
       "layout": "IPY_MODEL_47678c4328bf4f0a931f7d598e6e1ecf",
       "style": "IPY_MODEL_0b3a92b47747423e825d18691a46a403",
       "value": "<p style='font-family: IBM Plex Sans, Arial, Helvetica, sans-serif; font-size: 20px; font-weight: medium;'>Circuit Properties</p>"
      }
     },
     "f2e44adb64d442919a3e68607f106e7e": {
      "model_module": "@jupyter-widgets/controls",
      "model_module_version": "2.0.0",
      "model_name": "HTMLModel",
      "state": {
       "layout": "IPY_MODEL_144e946f6295437b9e7dbbed6aa49c32",
       "style": "IPY_MODEL_778c0866dd104677802dab0614a6c837",
       "value": "<h5>Queue</h5>"
      }
     },
     "f99b19cc6e954c67906fc45a8c2666a1": {
      "model_module": "@jupyter-widgets/controls",
      "model_module_version": "2.0.0",
      "model_name": "HTMLModel",
      "state": {
       "layout": "IPY_MODEL_2bc6ae0eb27a40899fc741960f5dc504",
       "style": "IPY_MODEL_b229c96fc224481391deaf9abc42cc10",
       "value": "<h5>Backend</h5>"
      }
     },
     "ff421309e3904600b41f76687e71661f": {
      "model_module": "@jupyter-widgets/controls",
      "model_module_version": "2.0.0",
      "model_name": "HTMLModel",
      "state": {
       "layout": "IPY_MODEL_cbf360f608ff47aeaa2836b4d910ee45",
       "style": "IPY_MODEL_c7c4ed9af17341b9b50da7c37fdfb847",
       "value": "<h5>Message</h5>"
      }
     }
    },
    "version_major": 2,
    "version_minor": 0
   }
  }
 },
 "nbformat": 4,
 "nbformat_minor": 5
}
